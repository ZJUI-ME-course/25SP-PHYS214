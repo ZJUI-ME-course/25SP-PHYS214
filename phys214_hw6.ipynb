{
 "cells": [
  {
   "cell_type": "code",
   "execution_count": 1,
   "metadata": {},
   "outputs": [
    {
     "data": {
      "text/plain": [
       "0.02591804346655382"
      ]
     },
     "execution_count": 1,
     "metadata": {},
     "output_type": "execute_result"
    }
   ],
   "source": [
    "# 1.1\n",
    "\n",
    "from math import *\n",
    "5.5e-9*sin(radians(0.27))*1e9\n"
   ]
  },
  {
   "cell_type": "code",
   "execution_count": null,
   "metadata": {},
   "outputs": [
    {
     "data": {
      "text/plain": [
       "1.2227677124365919"
      ]
     },
     "execution_count": 2,
     "metadata": {},
     "output_type": "execute_result"
    }
   ],
   "source": [
    "# 1.2\n",
    "#动量\n",
    "lamda=5.5e-9*sin(radians(0.27))\n",
    "p=6.626e-34/lamda\n",
    "\n",
    "# print(p)\n",
    "m=939565413*1.6e-19/3e8/3e8\n",
    "p**2/2/m/1.6e-19\n"
   ]
  },
  {
   "cell_type": "code",
   "execution_count": null,
   "metadata": {},
   "outputs": [
    {
     "data": {
      "text/plain": [
       "1.2227586612881942"
      ]
     },
     "execution_count": 12,
     "metadata": {},
     "output_type": "execute_result"
    }
   ],
   "source": [
    "h=6.626e-34\n",
    "\n",
    "d=5.5e-9\n",
    "alpha=radians(0.27)\n",
    "lamda=d*alpha\n",
    "\n",
    "p=h/lamda\n",
    "m=939565413*1.6e-19/3e8/3e8\n",
    "\n",
    "p**2/2/m/1.6e-19\n",
    "\n"
   ]
  },
  {
   "cell_type": "code",
   "execution_count": 3,
   "metadata": {},
   "outputs": [
    {
     "data": {
      "text/plain": [
       "47934.752544235605"
      ]
     },
     "execution_count": 3,
     "metadata": {},
     "output_type": "execute_result"
    }
   ],
   "source": [
    "# 1.3\n",
    "p*3e8/1.6e-19\n"
   ]
  },
  {
   "cell_type": "code",
   "execution_count": 4,
   "metadata": {},
   "outputs": [
    {
     "data": {
      "text/latex": [
       "$\\displaystyle 0.894427190999916$"
      ],
      "text/plain": [
       "0.894427190999916"
      ]
     },
     "execution_count": 4,
     "metadata": {},
     "output_type": "execute_result"
    }
   ],
   "source": [
    "# 2.1\n",
    "from sympy import *\n",
    "lamda=2.5\n",
    "x=Symbol('x')\n",
    "sqrt(1/float(integrate(sin(2*pi*x/lamda)**2,(x,-lamda/2,lamda/2))))\n"
   ]
  },
  {
   "cell_type": "code",
   "execution_count": null,
   "metadata": {},
   "outputs": [
    {
     "data": {
      "text/plain": [
       "0.5641895835477563"
      ]
     },
     "execution_count": 5,
     "metadata": {},
     "output_type": "execute_result"
    }
   ],
   "source": [
    "# 2.2\n",
    "float(sqrt(2/2/pi))"
   ]
  },
  {
   "cell_type": "code",
   "execution_count": 6,
   "metadata": {},
   "outputs": [
    {
     "name": "stdout",
     "output_type": "stream",
     "text": [
      "0.5290400570128866\n",
      "0.38095238095238093\n"
     ]
    }
   ],
   "source": [
    "# 3\n",
    "from math import sqrt\n",
    "\n",
    "from sympy import symbols, solve\n",
    "from sympy import integrate as i \n",
    "x=symbols('x')\n",
    "l=symbols('l')\n",
    "\n",
    "l=3.5\n",
    "\n",
    "N=sqrt(1/2/i(x**2, (x, 0, l/2)))\n",
    "print(N)\n",
    "\n",
    "print(N**2*(1/3*l)**2)\n"
   ]
  },
  {
   "cell_type": "code",
   "execution_count": null,
   "metadata": {},
   "outputs": [],
   "source": []
  }
 ],
 "metadata": {
  "kernelspec": {
   "display_name": "Python 3",
   "language": "python",
   "name": "python3"
  },
  "language_info": {
   "codemirror_mode": {
    "name": "ipython",
    "version": 3
   },
   "file_extension": ".py",
   "mimetype": "text/x-python",
   "name": "python",
   "nbconvert_exporter": "python",
   "pygments_lexer": "ipython3",
   "version": "3.9.6"
  }
 },
 "nbformat": 4,
 "nbformat_minor": 2
}
