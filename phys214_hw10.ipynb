{
 "cells": [
  {
   "cell_type": "code",
   "execution_count": null,
   "metadata": {},
   "outputs": [
    {
     "name": "stdout",
     "output_type": "stream",
     "text": [
      "2.6506181997804608\n",
      "3.072307458836443\n",
      "3.192790104281009\n"
     ]
    }
   ],
   "source": [
    "# 1\n",
    "h=6.626e-34\n",
    "m=9.11e-31\n",
    "c=3e8\n",
    "l=2.5e-9\n",
    "from math import *\n",
    "\n",
    "e1=1**2*h**2/8/m/l**2\n",
    "e2=2**2*h**2/8/m/l**2\n",
    "e3=3**2*h**2/8/m/l**2\n",
    "e4=4**2*h**2/8/m/l**2\n",
    "\n",
    "eground=(2*(e1+e2+e3)+e4)\n",
    "print(eground/1.6e-19)\n",
    "\n",
    "# 从3-》4\n",
    "ex1=(4+3)*e1+eground\n",
    "print(ex1/1.6e-19)\n",
    "\n",
    "\n",
    "# 一开始猜2-》4不对\n",
    "# 实际上是从4-》5\n",
    "ex2=9*e1+eground\n",
    "print(ex2/1.6e-19)\n",
    "\n",
    "\n"
   ]
  },
  {
   "cell_type": "code",
   "execution_count": 25,
   "metadata": {},
   "outputs": [
    {
     "name": "stdout",
     "output_type": "stream",
     "text": [
      "3\n",
      "4.2\n"
     ]
    }
   ],
   "source": [
    "# 2\n",
    "import math\n",
    "n=math.floor(sqrt(-13.6/(-13.6+12.3)))\n",
    "# 向下取整\n",
    "print(n)\n",
    "\n",
    "e3=-13.6/9\n",
    "e2=-13.6/4\n",
    "e1=-13.6/1\n",
    "# print(e3-e2,e3-e1,e2-e1)\n",
    "print(4.2)"
   ]
  },
  {
   "cell_type": "code",
   "execution_count": 26,
   "metadata": {},
   "outputs": [
    {
     "name": "stdout",
     "output_type": "stream",
     "text": [
      "2 6\n"
     ]
    }
   ],
   "source": [
    "# 3\n",
    "print(2,6)"
   ]
  }
 ],
 "metadata": {
  "kernelspec": {
   "display_name": "Python 3",
   "language": "python",
   "name": "python3"
  },
  "language_info": {
   "codemirror_mode": {
    "name": "ipython",
    "version": 3
   },
   "file_extension": ".py",
   "mimetype": "text/x-python",
   "name": "python",
   "nbconvert_exporter": "python",
   "pygments_lexer": "ipython3",
   "version": "3.9.6"
  }
 },
 "nbformat": 4,
 "nbformat_minor": 2
}
