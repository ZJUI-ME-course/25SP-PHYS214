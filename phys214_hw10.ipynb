{
 "cells": [
  {
   "cell_type": "code",
   "execution_count": 19,
   "metadata": {},
   "outputs": [
    {
     "data": {
      "text/plain": [
       "3.751746221164851e-07"
      ]
     },
     "execution_count": 19,
     "metadata": {},
     "output_type": "execute_result"
    }
   ],
   "source": [
    "# 1\n",
    "h=6.626e-34\n",
    "\n",
    "c=3e8\n",
    "\n",
    "\n",
    "e=3*1.6e-19\n",
    "\n",
    "d=1e-3/600\n",
    "lamda=380e-9\n",
    "from math import *\n",
    "\n",
    "\n",
    "m=2\n",
    "\n",
    "# asin(m*lamda/d)\n",
    "\n",
    "d*sin(0.467)/m\n"
   ]
  }
 ],
 "metadata": {
  "kernelspec": {
   "display_name": "Python 3",
   "language": "python",
   "name": "python3"
  },
  "language_info": {
   "codemirror_mode": {
    "name": "ipython",
    "version": 3
   },
   "file_extension": ".py",
   "mimetype": "text/x-python",
   "name": "python",
   "nbconvert_exporter": "python",
   "pygments_lexer": "ipython3",
   "version": "3.9.6"
  }
 },
 "nbformat": 4,
 "nbformat_minor": 2
}
