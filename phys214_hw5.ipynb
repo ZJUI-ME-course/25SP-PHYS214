{
 "cells": [
  {
   "cell_type": "code",
   "execution_count": 20,
   "metadata": {},
   "outputs": [
    {
     "data": {
      "text/plain": [
       "1.3"
      ]
     },
     "execution_count": 20,
     "metadata": {},
     "output_type": "execute_result"
    }
   ],
   "source": [
    "# 1.2\n",
    "\n",
    "-(-1.3)\n"
   ]
  },
  {
   "cell_type": "code",
   "execution_count": null,
   "metadata": {},
   "outputs": [
    {
     "data": {
      "text/latex": [
       "$\\displaystyle 3.82753184180093$"
      ],
      "text/plain": [
       "3.82753184180093"
      ]
     },
     "execution_count": 27,
     "metadata": {},
     "output_type": "execute_result"
    }
   ],
   "source": [
    "# 1.3\n",
    "\n",
    "sqrt(3.6**2+1.3**2)\n"
   ]
  },
  {
   "cell_type": "code",
   "execution_count": 15,
   "metadata": {},
   "outputs": [
    {
     "data": {
      "text/plain": [
       "np.float64(-160.14478256020996)"
      ]
     },
     "execution_count": 15,
     "metadata": {},
     "output_type": "execute_result"
    }
   ],
   "source": [
    "# 1.4\n",
    "from numpy import *\n",
    "-degrees(-atan(1.3/3.6)+3.1415926)\n"
   ]
  },
  {
   "cell_type": "code",
   "execution_count": 18,
   "metadata": {},
   "outputs": [
    {
     "data": {
      "text/plain": [
       "np.float64(0.9063077870366499)"
      ]
     },
     "execution_count": 18,
     "metadata": {},
     "output_type": "execute_result"
    }
   ],
   "source": [
    "# 1.5\n",
    "cos(radians(45-20))\n"
   ]
  },
  {
   "cell_type": "code",
   "execution_count": 19,
   "metadata": {},
   "outputs": [
    {
     "data": {
      "text/plain": [
       "np.float64(0.42261826174069944)"
      ]
     },
     "execution_count": 19,
     "metadata": {},
     "output_type": "execute_result"
    }
   ],
   "source": [
    "# 1.6\n",
    "sin(radians(45-20))\n"
   ]
  },
  {
   "cell_type": "code",
   "execution_count": 23,
   "metadata": {},
   "outputs": [
    {
     "name": "stdout",
     "output_type": "stream",
     "text": [
      "1/log(21)\n"
     ]
    }
   ],
   "source": [
    "# 2.1\n",
    "from sympy import integrate as i \n",
    "from sympy import *\n",
    "\n",
    "x=S('x')\n",
    "# A=S('')\n",
    "rouzong=i(1/(x+1),(x,0,20))\n",
    "A=1/rouzong \n",
    "print(A)\n"
   ]
  },
  {
   "cell_type": "code",
   "execution_count": 24,
   "metadata": {},
   "outputs": [
    {
     "name": "stdout",
     "output_type": "stream",
     "text": [
      "-log(2*log(21))/log(21) + log(6*log(21))/log(21)\n"
     ]
    }
   ],
   "source": [
    "# 2.2\n",
    "x=S('x')\n",
    "p2=i(A/(x+1),(x,1,5))\n",
    "print(p2)\n"
   ]
  },
  {
   "cell_type": "code",
   "execution_count": 26,
   "metadata": {},
   "outputs": [
    {
     "name": "stdout",
     "output_type": "stream",
     "text": [
      "-16.0*log(2*log(21))/log(21) + 16.0*log(6*log(21))/log(21)\n"
     ]
    }
   ],
   "source": [
    "# 2.3\n",
    "\n",
    "E=10*1.6e-19\n",
    "neffect=1e16*p2 # electrons/s\n",
    "P=neffect*E\n",
    "print(P*1e3)\n",
    "\n",
    "\n"
   ]
  },
  {
   "cell_type": "code",
   "execution_count": null,
   "metadata": {},
   "outputs": [
    {
     "name": "stdout",
     "output_type": "stream",
     "text": [
      "0.326530612244898\n",
      "0.380952380952381\n",
      "0.125\n"
     ]
    }
   ],
   "source": [
    "# 3.1\n",
    "\n",
    "from sympy import integrate as i \n",
    "from sympy import *\n",
    "\n",
    "l=3.5\n",
    "\n",
    "n=S(\"n\")\n",
    "q1=n*l**2/4-1\n",
    "n=solve(q1,n)[0]\n",
    "print(n)\n",
    "\n",
    "\n",
    "print(n*1/3*l)\n",
    "print(1/8)\n"
   ]
  }
 ],
 "metadata": {
  "kernelspec": {
   "display_name": "Python 3",
   "language": "python",
   "name": "python3"
  },
  "language_info": {
   "codemirror_mode": {
    "name": "ipython",
    "version": 3
   },
   "file_extension": ".py",
   "mimetype": "text/x-python",
   "name": "python",
   "nbconvert_exporter": "python",
   "pygments_lexer": "ipython3",
   "version": "3.12.6"
  }
 },
 "nbformat": 4,
 "nbformat_minor": 2
}
