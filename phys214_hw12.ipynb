{
 "cells": [
  {
   "cell_type": "code",
   "execution_count": null,
   "metadata": {},
   "outputs": [],
   "source": [
    "# 1\n",
    "i0=2.34e18\n",
    "i1=1/2*i0\n",
    "print(i1)\n",
    "\n",
    "i2=1/2*i0\n",
    "print(i2)\n",
    "\n",
    "\n",
    "from math import *\n",
    "a=cos(radians(35))\n",
    "b=sin(radians(35))\n",
    "\n",
    "print(a,b)\n",
    "print(a**2)\n"
   ]
  },
  {
   "cell_type": "code",
   "execution_count": 5,
   "metadata": {},
   "outputs": [
    {
     "name": "stdout",
     "output_type": "stream",
     "text": [
      "1 0 0.5 0.5 0.25 0.25\n"
     ]
    }
   ],
   "source": [
    "# 2\n",
    "print(1,0,1/2,1/2,1/4,1/4)"
   ]
  }
 ],
 "metadata": {
  "kernelspec": {
   "display_name": "Python 3",
   "language": "python",
   "name": "python3"
  },
  "language_info": {
   "codemirror_mode": {
    "name": "ipython",
    "version": 3
   },
   "file_extension": ".py",
   "mimetype": "text/x-python",
   "name": "python",
   "nbconvert_exporter": "python",
   "pygments_lexer": "ipython3",
   "version": "3.9.6"
  }
 },
 "nbformat": 4,
 "nbformat_minor": 2
}
