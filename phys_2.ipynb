{
 "cells": [
  {
   "cell_type": "code",
   "execution_count": null,
   "metadata": {},
   "outputs": [],
   "source": [
    "\n",
    "\n",
    "\n",
    "\n",
    "\n"
   ]
  },
  {
   "cell_type": "code",
   "execution_count": null,
   "metadata": {},
   "outputs": [],
   "source": [
    "4*(sqrt(2)-1)\n",
    "335/30\n",
    "4*(sqrt(2)-1)/335*30*360\n"
   ]
  },
  {
   "cell_type": "code",
   "execution_count": null,
   "metadata": {},
   "outputs": [],
   "source": [
    "from math import *\n",
    "fai=4*(sqrt(2)-1)/335*30*360\n",
    "\n",
    "i=4*6*cos(radians(fai/2))**2\n",
    "print(i)\n",
    "\n"
   ]
  },
  {
   "cell_type": "code",
   "execution_count": null,
   "metadata": {},
   "outputs": [],
   "source": [
    "from math import *\n",
    "print(cos(radians(15))*2)\n",
    "\n",
    "\n",
    "\n",
    "print(cos(radians(15))*sin(radians(15)))\n",
    "\n",
    "\n",
    "\n",
    "\n",
    "sqrt(1/2*1/2+(1+sqrt(3)/2)*(1+sqrt(3)/2))\n",
    "\n",
    "\n",
    "sqrt((1+sqrt(3))*(1+sqrt(3))+1)\n"
   ]
  },
  {
   "cell_type": "code",
   "execution_count": null,
   "metadata": {},
   "outputs": [],
   "source": [
    "4*(sqrt(2)-1)\n",
    "\n",
    "335/30\n",
    "\n",
    "\n",
    "4*(sqrt(2)-1)/335*30*360\n",
    "\n",
    "\n",
    "6*(0.80297**2+1.596**2)\n",
    "\n",
    "\n",
    "4*6\n",
    "\n",
    "1*335/(4*(sqrt(2)-1))\n",
    "\n",
    "0.5*335/(4*(sqrt(2)-1))4*(sqrt(2)-1)/335*30*360\n"
   ]
  },
  {
   "cell_type": "code",
   "execution_count": null,
   "metadata": {},
   "outputs": [],
   "source": [
    "650*10^-9/50/10^-6/pi*180\n",
    "\n",
    "\n",
    "\n",
    "650*10^-9/50/10^-6*200\n",
    "\n",
    "2*650*10^-9/50/10^-6*200\n",
    "\n"
   ]
  },
  {
   "cell_type": "code",
   "execution_count": null,
   "metadata": {},
   "outputs": [],
   "source": [
    "550e-9/(0.16759549)*1e6\n",
    "\n",
    "\n",
    "3.28171102*(0.321902733287024)*1e3/2\n"
   ]
  }
 ],
 "metadata": {
  "kernelspec": {
   "display_name": "Python 3",
   "language": "python",
   "name": "python3"
  },
  "language_info": {
   "codemirror_mode": {
    "name": "ipython",
    "version": 3
   },
   "file_extension": ".py",
   "mimetype": "text/x-python",
   "name": "python",
   "nbconvert_exporter": "python",
   "pygments_lexer": "ipython3",
   "version": "3.12.6"
  }
 },
 "nbformat": 4,
 "nbformat_minor": 2
}
