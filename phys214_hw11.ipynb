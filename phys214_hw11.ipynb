{
 "cells": [
  {
   "cell_type": "code",
   "execution_count": 4,
   "metadata": {},
   "outputs": [
    {
     "name": "stdout",
     "output_type": "stream",
     "text": [
      "2.7555555555555555\n",
      "2.2545454545454544\n",
      "No\n"
     ]
    }
   ],
   "source": [
    "# 1\n",
    "\n",
    "print(1240/450)\n",
    "print(1240/550)\n",
    "\n",
    "print('No')"
   ]
  },
  {
   "cell_type": "code",
   "execution_count": 3,
   "metadata": {},
   "outputs": [
    {
     "name": "stdout",
     "output_type": "stream",
     "text": [
      "9.11e-31\n",
      "1756311.7453347968\n",
      "1\n"
     ]
    }
   ],
   "source": [
    "# 2\n",
    "v=1\n",
    "E=1\n",
    "m=9.11e-31\n",
    "p=m*v\n",
    "print(p)\n",
    "\n",
    "q=1.6e-19\n",
    "F=E*q\n",
    "dertat=1e-5\n",
    "dertap=F*dertat\n",
    "v=dertap/m\n",
    "print(v)\n",
    "\n",
    "\n",
    "\n",
    "# 材料带隙5eV，电场提供的能量才能超过带隙，才能改变电子动量，dertaE=q*E*dertax<5eV,所以动量不变\n",
    "print(1)"
   ]
  }
 ],
 "metadata": {
  "kernelspec": {
   "display_name": "Python 3",
   "language": "python",
   "name": "python3"
  },
  "language_info": {
   "codemirror_mode": {
    "name": "ipython",
    "version": 3
   },
   "file_extension": ".py",
   "mimetype": "text/x-python",
   "name": "python",
   "nbconvert_exporter": "python",
   "pygments_lexer": "ipython3",
   "version": "3.9.6"
  }
 },
 "nbformat": 4,
 "nbformat_minor": 2
}
