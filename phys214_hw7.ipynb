{
 "cells": [
  {
   "cell_type": "code",
   "execution_count": null,
   "metadata": {},
   "outputs": [
    {
     "name": "stdout",
     "output_type": "stream",
     "text": [
      "1.1547005383792517\n",
      "2.8540186528583815e-16\n"
     ]
    }
   ],
   "source": [
    "# 1\n",
    "\n",
    "from math import *\n",
    "\n",
    "\n",
    "a=2e-9\n",
    "dertax=a/sqrt(3)\n",
    "print(dertax/1e-9)\n",
    "\n",
    "h=1.0545718e-34\n",
    "dertap=h/2/dertax\n",
    "\n",
    "print(dertap/1e9/1.6e-19)\n"
   ]
  },
  {
   "cell_type": "code",
   "execution_count": null,
   "metadata": {},
   "outputs": [],
   "source": [
    "# 2\n",
    "\n"
   ]
  }
 ],
 "metadata": {
  "kernelspec": {
   "display_name": "Python 3",
   "language": "python",
   "name": "python3"
  },
  "language_info": {
   "codemirror_mode": {
    "name": "ipython",
    "version": 3
   },
   "file_extension": ".py",
   "mimetype": "text/x-python",
   "name": "python",
   "nbconvert_exporter": "python",
   "pygments_lexer": "ipython3",
   "version": "3.12.6"
  }
 },
 "nbformat": 4,
 "nbformat_minor": 2
}
