{
 "cells": [
  {
   "cell_type": "code",
   "execution_count": null,
   "metadata": {},
   "outputs": [
    {
     "name": "stdout",
     "output_type": "stream",
     "text": [
      "1.1547005383792517\n",
      "2.8540186528583815e-16\n"
     ]
    }
   ],
   "source": [
    "# 1\n",
    "\n",
    "from math import *\n",
    "\n",
    "\n",
    "a=2e-9\n",
    "dertax=a/sqrt(3)\n",
    "print(dertax/1e-9)\n",
    "\n",
    "h=1.0545718e-34\n",
    "dertap=h/2/dertax\n",
    "\n",
    "print(dertap/1e9/1.6e-19)\n"
   ]
  },
  {
   "cell_type": "code",
   "execution_count": 17,
   "metadata": {},
   "outputs": [
    {
     "name": "stdout",
     "output_type": "stream",
     "text": [
      "0.4472135954999579 0.5477225575051661 0.7071067811865476\n",
      "0.00024978655933650446\n"
     ]
    }
   ],
   "source": [
    "# 2\n",
    "\n",
    "\n",
    "a1=sqrt(0.2)\n",
    "b1=sqrt(0.3)\n",
    "c1=sqrt(0.5)\n",
    "\n",
    "print(a1,b1,c1)\n",
    "\n",
    "c=3e8\n",
    "e=1.6e-19\n",
    "p=16/c*e\n",
    "\n",
    "m=9.11e-31\n",
    "print(p**2/2/m/1.6e-19)\n"
   ]
  },
  {
   "cell_type": "code",
   "execution_count": 9,
   "metadata": {},
   "outputs": [
    {
     "name": "stdout",
     "output_type": "stream",
     "text": [
      "0.14285714285714285\n",
      "0 0\n"
     ]
    }
   ],
   "source": [
    "# 3\n",
    "from math import *\n",
    "\n",
    "a=2\n",
    "b=sqrt(1**2+3**2)\n",
    "\n",
    "\n",
    "x1=a**2/2/(a**2+b**2)\n",
    "x2=b**2/2/(a**2+b**2)\n",
    "print(x1)\n",
    "print(0,0)"
   ]
  }
 ],
 "metadata": {
  "kernelspec": {
   "display_name": "Python 3",
   "language": "python",
   "name": "python3"
  },
  "language_info": {
   "codemirror_mode": {
    "name": "ipython",
    "version": 3
   },
   "file_extension": ".py",
   "mimetype": "text/x-python",
   "name": "python",
   "nbconvert_exporter": "python",
   "pygments_lexer": "ipython3",
   "version": "3.9.6"
  }
 },
 "nbformat": 4,
 "nbformat_minor": 2
}
