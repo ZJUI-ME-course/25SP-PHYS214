{
 "cells": [
  {
   "cell_type": "code",
   "execution_count": 9,
   "metadata": {},
   "outputs": [
    {
     "name": "stdout",
     "output_type": "stream",
     "text": [
      "0.5449013157894737\n",
      "0.38921522556390975\n",
      "7.0\n",
      "2.1992639223657395\n",
      "5320.0\n"
     ]
    }
   ],
   "source": [
    "# 1\n",
    "from math import *\n",
    "h=6.626e-34\n",
    "c=3e8\n",
    "m=9.11e-31\n",
    "\n",
    "lamda1=2280e-9\n",
    "\n",
    "en_n1=h*c/lamda1/1.6e-19  # ev\n",
    "\n",
    "print(en_n1)\n",
    "\n",
    "\n",
    "lamda2=3192e-9\n",
    "en1_n2=h*c/lamda2/1.6e-19 # ev\n",
    "print(en1_n2)\n",
    "\n",
    "\n",
    "sqrt(13.6/en_n1)\n",
    "\n",
    "\n",
    "\n",
    "e=(en_n1-en1_n2)/2\n",
    "print(en_n1/e)\n",
    "\n",
    "\n",
    "\n",
    "l=sqrt(h**2/e/1.6e-19/8/m)\n",
    "print(l*1e9)\n",
    "\n",
    "lamda=8*m*l**2/3/h*c\n",
    "print(lamda*1e9)\n",
    "\n"
   ]
  },
  {
   "cell_type": "code",
   "execution_count": 19,
   "metadata": {},
   "outputs": [
    {
     "name": "stdout",
     "output_type": "stream",
     "text": [
      "0.5890825035561877\n",
      "6.327000000000001\n",
      "1.2654000000000003\n",
      "4716.3414936826375\n"
     ]
    }
   ],
   "source": [
    "# 2\n",
    "m=5.31372e-26\n",
    "lamda=2.109e-6\n",
    "\n",
    "# micros 就是miu m\n",
    "e=h*c/lamda\n",
    "print(e/1.6e-19)\n",
    "\n",
    "lamda2=3*lamda\n",
    "print(lamda2*1e6)\n",
    "\n",
    "lamda3=lamda*3/5\n",
    "print(lamda3*1e6)\n",
    "\n",
    "omega=e/3/h*2*pi\n",
    "k=m*omega**2\n",
    "\n",
    "print(k)"
   ]
  }
 ],
 "metadata": {
  "kernelspec": {
   "display_name": "Python 3",
   "language": "python",
   "name": "python3"
  },
  "language_info": {
   "codemirror_mode": {
    "name": "ipython",
    "version": 3
   },
   "file_extension": ".py",
   "mimetype": "text/x-python",
   "name": "python",
   "nbconvert_exporter": "python",
   "pygments_lexer": "ipython3",
   "version": "3.9.6"
  }
 },
 "nbformat": 4,
 "nbformat_minor": 2
}
