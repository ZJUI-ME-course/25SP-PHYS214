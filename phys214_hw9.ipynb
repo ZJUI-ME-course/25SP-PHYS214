{
 "cells": [
  {
   "cell_type": "code",
   "execution_count": 9,
   "metadata": {},
   "outputs": [
    {
     "name": "stdout",
     "output_type": "stream",
     "text": [
      "0.5449013157894737\n",
      "0.38921522556390975\n"
     ]
    },
    {
     "data": {
      "text/plain": [
       "4.995863063704091"
      ]
     },
     "execution_count": 9,
     "metadata": {},
     "output_type": "execute_result"
    }
   ],
   "source": [
    "# 1\n",
    "from math import *\n",
    "h=6.626e-34\n",
    "c=3e8\n",
    "\n",
    "lamda1=2280e-9\n",
    "\n",
    "en_n1=h*c/lamda1/1.6e-19  # ev\n",
    "\n",
    "print(en_n1)\n",
    "\n",
    "\n",
    "lamda2=3192e-9\n",
    "en1_n2=h*c/lamda2/1.6e-19 # ev\n",
    "print(en1_n2)\n",
    "\n",
    "\n",
    "sqrt(13.6/en_n1)\n",
    "\n"
   ]
  },
  {
   "cell_type": "code",
   "execution_count": null,
   "metadata": {},
   "outputs": [],
   "source": []
  }
 ],
 "metadata": {
  "kernelspec": {
   "display_name": "Python 3",
   "language": "python",
   "name": "python3"
  },
  "language_info": {
   "codemirror_mode": {
    "name": "ipython",
    "version": 3
   },
   "file_extension": ".py",
   "mimetype": "text/x-python",
   "name": "python",
   "nbconvert_exporter": "python",
   "pygments_lexer": "ipython3",
   "version": "3.12.6"
  }
 },
 "nbformat": 4,
 "nbformat_minor": 2
}
