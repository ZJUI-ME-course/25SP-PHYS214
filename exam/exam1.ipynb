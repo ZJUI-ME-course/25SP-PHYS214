{
 "cells": [
  {
   "cell_type": "code",
   "execution_count": 5,
   "metadata": {},
   "outputs": [
    {
     "name": "stdout",
     "output_type": "stream",
     "text": [
      "0.005771078240526627\n",
      "9.618463734211045e-12\n"
     ]
    }
   ],
   "source": [
    "e=6.626e-34*3e8/795e-9\n",
    "# print(e)\n",
    "p=e/3e8\n",
    "# print(p)\n",
    "\n",
    "\n",
    "m=87*1.66e-27\n",
    "\n",
    "v=p/m\n",
    "print(v)\n",
    "\n",
    "ke=1/2*m*v**2\n",
    "print(ke/e)\n"
   ]
  },
  {
   "cell_type": "code",
   "execution_count": null,
   "metadata": {},
   "outputs": [],
   "source": []
  }
 ],
 "metadata": {
  "kernelspec": {
   "display_name": "Python 3",
   "language": "python",
   "name": "python3"
  },
  "language_info": {
   "codemirror_mode": {
    "name": "ipython",
    "version": 3
   },
   "file_extension": ".py",
   "mimetype": "text/x-python",
   "name": "python",
   "nbconvert_exporter": "python",
   "pygments_lexer": "ipython3",
   "version": "3.12.6"
  }
 },
 "nbformat": 4,
 "nbformat_minor": 2
}
