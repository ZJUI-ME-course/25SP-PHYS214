{
 "cells": [
  {
   "cell_type": "code",
   "execution_count": null,
   "metadata": {},
   "outputs": [
    {
     "data": {
      "text/plain": [
       "545454545454545.5"
      ]
     },
     "execution_count": 4,
     "metadata": {},
     "output_type": "execute_result"
    }
   ],
   "source": [
    "# 1\n",
    "\n",
    "\n",
    "0\n",
    "\n",
    "650*10^-9/50/10^-6/pi*180\n",
    "\n",
    "650*10^-9/50/10^-6*200\n",
    "\n",
    "2*650*10^-9/50/10^-6*200\n",
    "\n",
    "100\n"
   ]
  },
  {
   "cell_type": "code",
   "execution_count": null,
   "metadata": {},
   "outputs": [],
   "source": [
    "# 2\n",
    "550e-9/(0.16759549)*1e6\n",
    "\n",
    "3.28171102*(0.321902733287024)*1e3/2\n"
   ]
  },
  {
   "cell_type": "code",
   "execution_count": null,
   "metadata": {},
   "outputs": [
    {
     "data": {
      "text/plain": [
       "np.float64(0.25881904510252074)"
      ]
     },
     "execution_count": 3,
     "metadata": {},
     "output_type": "execute_result"
    }
   ],
   "source": [
    "# 3\n",
    "\n",
    "1.5e11/4.2e16\n",
    "570e-9/(1.5e11/4.2e16)*1.22\n"
   ]
  },
  {
   "cell_type": "code",
   "execution_count": null,
   "metadata": {},
   "outputs": [],
   "source": [
    "# 4\n",
    "\n",
    "2*(248e-9/10e-3)*6.25e-3*1e9*1.22\n",
    "\n",
    "(248e-9/10e-3)*6.25e-3*1e9*1.22\n",
    "\n",
    "(157e-9/10e-3)*6.25e-3*1e9*1.22\n",
    "\n",
    "(248/157)^2\n"
   ]
  }
 ],
 "metadata": {
  "kernelspec": {
   "display_name": "Python 3",
   "language": "python",
   "name": "python3"
  },
  "language_info": {
   "codemirror_mode": {
    "name": "ipython",
    "version": 3
   },
   "file_extension": ".py",
   "mimetype": "text/x-python",
   "name": "python",
   "nbconvert_exporter": "python",
   "pygments_lexer": "ipython3",
   "version": "3.12.6"
  }
 },
 "nbformat": 4,
 "nbformat_minor": 2
}
